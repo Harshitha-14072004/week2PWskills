{
 "cells": [
  {
   "cell_type": "markdown",
   "id": "3200cbb6-ae64-4f79-98a9-1cd0149ce58c",
   "metadata": {},
   "source": [
    "##### Q1. How do you comment code in Python? What are the different types of comments?"
   ]
  },
  {
   "cell_type": "markdown",
   "id": "53111695-eb46-4de6-8f35-92726972eeee",
   "metadata": {},
   "source": [
    "single line commnets are done in python using \"#\" and the multi line comments are done by using \"\"\"......\"\"\""
   ]
  },
  {
   "cell_type": "code",
   "execution_count": 2,
   "id": "e07abbd5-9f7e-4c9d-8d3f-f22f2c2313f3",
   "metadata": {},
   "outputs": [
    {
     "data": {
      "text/plain": [
       "'\\n     multi\\n     line \\n     comments\\n'"
      ]
     },
     "execution_count": 2,
     "metadata": {},
     "output_type": "execute_result"
    }
   ],
   "source": [
    "#this way a single line comment is done\n",
    "\"\"\"\n",
    "     multi\n",
    "     line \n",
    "     comments\n",
    "\"\"\""
   ]
  },
  {
   "cell_type": "markdown",
   "id": "003c825a-c6ad-49c6-a42b-956319a9d276",
   "metadata": {},
   "source": [
    "##### Q2. What are variables in Python? How do you declare and assign values to variables?"
   ]
  },
  {
   "cell_type": "markdown",
   "id": "3344a44f-2304-48a8-8d03-6072f51e790d",
   "metadata": {},
   "source": [
    "variables are thoes which can be declared jus by name from a-z or from A-Z,it can also be started with '_' symbol"
   ]
  },
  {
   "cell_type": "code",
   "execution_count": 3,
   "id": "de35345a-a0b3-424a-ab87-444075aca831",
   "metadata": {},
   "outputs": [],
   "source": [
    "variable_name=22\n",
    "x='abc'        #this is the example"
   ]
  },
  {
   "cell_type": "markdown",
   "id": "80be9a8d-8e20-49cc-b4f4-d54dfb04dbec",
   "metadata": {},
   "source": [
    "##### Q3. How do you convert one data type to another in Python?"
   ]
  },
  {
   "cell_type": "code",
   "execution_count": 8,
   "id": "c6b31c5d-67a2-45e1-867f-8e7a5d23dbbf",
   "metadata": {},
   "outputs": [],
   "source": [
    "num=\"23\"\n",
    "new=int(num)"
   ]
  },
  {
   "cell_type": "code",
   "execution_count": 9,
   "id": "85e2a8dc-9120-4ea8-aa7f-3a590b0cbc56",
   "metadata": {},
   "outputs": [
    {
     "name": "stdout",
     "output_type": "stream",
     "text": [
      "23\n"
     ]
    }
   ],
   "source": [
    "print(new)"
   ]
  },
  {
   "cell_type": "markdown",
   "id": "b5075e7e-0a66-43fc-b78e-23656d658ba1",
   "metadata": {},
   "source": [
    "##### Q4. How do you write and execute a Python script from the command line?"
   ]
  },
  {
   "cell_type": "code",
   "execution_count": 14,
   "id": "3111ed5f-93b5-442f-9fb7-bce8e1d8d838",
   "metadata": {},
   "outputs": [
    {
     "ename": "SyntaxError",
     "evalue": "invalid syntax (2479451301.py, line 1)",
     "output_type": "error",
     "traceback": [
      "\u001b[0;36m  Cell \u001b[0;32mIn[14], line 1\u001b[0;36m\u001b[0m\n\u001b[0;31m    python first_script.py\u001b[0m\n\u001b[0m           ^\u001b[0m\n\u001b[0;31mSyntaxError\u001b[0m\u001b[0;31m:\u001b[0m invalid syntax\n"
     ]
    }
   ],
   "source": [
    "python first_script.py\n",
    "Hello World!"
   ]
  },
  {
   "cell_type": "markdown",
   "id": "bedf89ac-2154-4789-996d-13c888c3ee79",
   "metadata": {},
   "source": [
    "##### Q5. Given a list my_list = [1, 2, 3, 4, 5], write the code to slice the list and obtain the sub-list [2, 3]."
   ]
  },
  {
   "cell_type": "code",
   "execution_count": 18,
   "id": "ac831e8c-2538-44bb-91e1-3324e2d4fc3a",
   "metadata": {},
   "outputs": [
    {
     "data": {
      "text/plain": [
       "[2, 3]"
      ]
     },
     "execution_count": 18,
     "metadata": {},
     "output_type": "execute_result"
    }
   ],
   "source": [
    "my_list = [1, 2, 3, 4, 5]\n",
    "my_list[1:3]\n"
   ]
  },
  {
   "cell_type": "markdown",
   "id": "cbffeed9-7354-4870-b59f-81e1e664aadb",
   "metadata": {},
   "source": [
    "##### Q6. What is a complex number in mathematics, and how is it represented in Python?"
   ]
  },
  {
   "cell_type": "markdown",
   "id": "1a6da667-0461-432f-b00e-55192a5f6c8a",
   "metadata": {},
   "source": [
    "complex number is expressed num+imaginary part.\n",
    "eg:3+4j,55j+1\n",
    "it is represented as a=2+9j"
   ]
  },
  {
   "cell_type": "markdown",
   "id": "3cf85840-4a0e-4124-a16f-a8bb41f61a96",
   "metadata": {},
   "source": [
    "##### Q7. What is the correct way to declare a variable named age and assign the value 25 to it?"
   ]
  },
  {
   "cell_type": "code",
   "execution_count": 19,
   "id": "042fd181-fb29-4443-93d2-fa0edde299bd",
   "metadata": {},
   "outputs": [],
   "source": [
    "age=25\n"
   ]
  },
  {
   "cell_type": "code",
   "execution_count": 20,
   "id": "2f66e3ac-2ac1-4503-bdf9-815978e0f145",
   "metadata": {},
   "outputs": [
    {
     "data": {
      "text/plain": [
       "25"
      ]
     },
     "execution_count": 20,
     "metadata": {},
     "output_type": "execute_result"
    }
   ],
   "source": [
    "age\n"
   ]
  },
  {
   "cell_type": "markdown",
   "id": "1fde19fc-69b9-4bb4-9ee6-ba2c086548b4",
   "metadata": {},
   "source": [
    "##### Q8. Declare a variable named price and assign the value 9.99 to it. What data type does this variable\n",
    "belong to?"
   ]
  },
  {
   "cell_type": "code",
   "execution_count": 21,
   "id": "d0bf8b69-6ec5-427a-826d-6f5491ce23ce",
   "metadata": {},
   "outputs": [
    {
     "data": {
      "text/plain": [
       "float"
      ]
     },
     "execution_count": 21,
     "metadata": {},
     "output_type": "execute_result"
    }
   ],
   "source": [
    "price=9.99\n",
    "type(price)"
   ]
  },
  {
   "cell_type": "markdown",
   "id": "edf4d66d-552e-4ded-9b44-2a07bdf0b8f0",
   "metadata": {},
   "source": [
    "##### Q9. Create a variable named name and assign your full name to it as a string. How would you print the\n",
    "value of this variable?"
   ]
  },
  {
   "cell_type": "code",
   "execution_count": 22,
   "id": "165c5a5f-980f-4822-b0a2-84e4711d1650",
   "metadata": {},
   "outputs": [
    {
     "name": "stdout",
     "output_type": "stream",
     "text": [
      "avadhanam harshitha\n"
     ]
    }
   ],
   "source": [
    "variable='avadhanam harshitha'\n",
    "print(variable)"
   ]
  },
  {
   "cell_type": "markdown",
   "id": "fb167cde-5bfa-47bc-b3a2-ed095595b101",
   "metadata": {},
   "source": [
    "##### Q10. Given the string \"Hello, World!\", extract the substring \"World\"."
   ]
  },
  {
   "cell_type": "code",
   "execution_count": 23,
   "id": "965f93f4-d46d-435b-8a4e-74f3e85baf9d",
   "metadata": {},
   "outputs": [
    {
     "data": {
      "text/plain": [
       "'World!'"
      ]
     },
     "execution_count": 23,
     "metadata": {},
     "output_type": "execute_result"
    }
   ],
   "source": [
    "str='hello,World!'\n",
    "str[6:12]"
   ]
  },
  {
   "cell_type": "markdown",
   "id": "c587eb36-c819-42ba-b975-d3db3637dc81",
   "metadata": {},
   "source": [
    "##### Q11. Create a variable named \"is_student\" and assign it a boolean value indicating whether you are\n",
    "currently a student or not."
   ]
  },
  {
   "cell_type": "code",
   "execution_count": null,
   "id": "d5495cb5-9d6d-4844-ba3e-a75d98d6464c",
   "metadata": {},
   "outputs": [],
   "source": [
    "is_student=True\n",
    "is_student"
   ]
  }
 ],
 "metadata": {
  "kernelspec": {
   "display_name": "Python 3 (ipykernel)",
   "language": "python",
   "name": "python3"
  },
  "language_info": {
   "codemirror_mode": {
    "name": "ipython",
    "version": 3
   },
   "file_extension": ".py",
   "mimetype": "text/x-python",
   "name": "python",
   "nbconvert_exporter": "python",
   "pygments_lexer": "ipython3",
   "version": "3.10.8"
  }
 },
 "nbformat": 4,
 "nbformat_minor": 5
}
